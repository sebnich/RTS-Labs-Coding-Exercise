{
 "cells": [
  {
   "cell_type": "code",
   "execution_count": 3,
   "metadata": {},
   "outputs": [],
   "source": [
    "def aboveBelow(arr, num):\n",
    "    above = 0\n",
    "    below = 0\n",
    "    for i in range(len(arr)):\n",
    "        if arr[i] == num:\n",
    "            continue\n",
    "        elif arr[i] > num:\n",
    "            above += 1\n",
    "        else:\n",
    "            below += 1\n",
    "    return print(\"above: {}, below: {}\".format(above, below))"
   ]
  },
  {
   "cell_type": "code",
   "execution_count": 2,
   "metadata": {},
   "outputs": [
    {
     "name": "stdout",
     "output_type": "stream",
     "text": [
      "above: 1, below: 4\n"
     ]
    }
   ],
   "source": [
    "# Example solution\n",
    "arr = [1, 5, 2, 1, 10]\n",
    "aboveBelow(arr,6)"
   ]
  },
  {
   "cell_type": "code",
   "execution_count": null,
   "metadata": {},
   "outputs": [],
   "source": []
  }
 ],
 "metadata": {
  "kernelspec": {
   "display_name": "Python 3",
   "language": "python",
   "name": "python3"
  },
  "language_info": {
   "codemirror_mode": {
    "name": "ipython",
    "version": 3
   },
   "file_extension": ".py",
   "mimetype": "text/x-python",
   "name": "python",
   "nbconvert_exporter": "python",
   "pygments_lexer": "ipython3",
   "version": "3.8.3"
  }
 },
 "nbformat": 4,
 "nbformat_minor": 4
}
